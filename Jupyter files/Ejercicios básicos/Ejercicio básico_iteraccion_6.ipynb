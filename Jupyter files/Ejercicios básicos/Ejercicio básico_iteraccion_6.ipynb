{
 "cells": [
  {
   "cell_type": "code",
   "execution_count": 10,
   "metadata": {},
   "outputs": [
    {
     "name": "stdout",
     "output_type": "stream",
     "text": [
      "el bit de paridad debe ser 0\n",
      "el bit de paridad debe ser 1\n",
      "no son ocho bits\n"
     ]
    },
    {
     "ename": "TypeError",
     "evalue": "not all arguments converted during string formatting",
     "output_type": "error",
     "traceback": [
      "\u001b[0;31m---------------------------------------------------------------------------\u001b[0m",
      "\u001b[0;31mTypeError\u001b[0m                                 Traceback (most recent call last)",
      "\u001b[1;32m/home/sesenes/Documents/GitHub/Python/Jupyter files/Ejercicios básicos/Ejercicio básico_iteraccion_6.ipynb Cell 1\u001b[0m in \u001b[0;36m<cell line: 2>\u001b[0;34m()\u001b[0m\n\u001b[1;32m      <a href='vscode-notebook-cell:/home/sesenes/Documents/GitHub/Python/Jupyter%20files/Ejercicios%20b%C3%A1sicos/Ejercicio%20b%C3%A1sico_iteraccion_6.ipynb#W0sZmlsZQ%3D%3D?line=4'>5</a>\u001b[0m \u001b[39melse\u001b[39;00m: \n\u001b[1;32m      <a href='vscode-notebook-cell:/home/sesenes/Documents/GitHub/Python/Jupyter%20files/Ejercicios%20b%C3%A1sicos/Ejercicio%20b%C3%A1sico_iteraccion_6.ipynb#W0sZmlsZQ%3D%3D?line=5'>6</a>\u001b[0m     line \u001b[39m=\u001b[39m line\u001b[39m.\u001b[39mcount(\u001b[39m\"\u001b[39m\u001b[39m1\u001b[39m\u001b[39m\"\u001b[39m)\n\u001b[0;32m----> <a href='vscode-notebook-cell:/home/sesenes/Documents/GitHub/Python/Jupyter%20files/Ejercicios%20b%C3%A1sicos/Ejercicio%20b%C3%A1sico_iteraccion_6.ipynb#W0sZmlsZQ%3D%3D?line=6'>7</a>\u001b[0m \u001b[39mif\u001b[39;00m line \u001b[39m%\u001b[39;49m \u001b[39m2\u001b[39;49m \u001b[39m==\u001b[39m \u001b[39m0\u001b[39m:\n\u001b[1;32m      <a href='vscode-notebook-cell:/home/sesenes/Documents/GitHub/Python/Jupyter%20files/Ejercicios%20b%C3%A1sicos/Ejercicio%20b%C3%A1sico_iteraccion_6.ipynb#W0sZmlsZQ%3D%3D?line=7'>8</a>\u001b[0m     \u001b[39mprint\u001b[39m(\u001b[39m\"\u001b[39m\u001b[39mel bit de paridad debe ser 0\u001b[39m\u001b[39m\"\u001b[39m)\n\u001b[1;32m      <a href='vscode-notebook-cell:/home/sesenes/Documents/GitHub/Python/Jupyter%20files/Ejercicios%20b%C3%A1sicos/Ejercicio%20b%C3%A1sico_iteraccion_6.ipynb#W0sZmlsZQ%3D%3D?line=8'>9</a>\u001b[0m \u001b[39melse\u001b[39;00m:\n",
      "\u001b[0;31mTypeError\u001b[0m: not all arguments converted during string formatting"
     ]
    }
   ],
   "source": []
  }
 ],
 "metadata": {
  "kernelspec": {
   "display_name": "Python 3.9.12 ('base')",
   "language": "python",
   "name": "python3"
  },
  "language_info": {
   "codemirror_mode": {
    "name": "ipython",
    "version": 3
   },
   "file_extension": ".py",
   "mimetype": "text/x-python",
   "name": "python",
   "nbconvert_exporter": "python",
   "pygments_lexer": "ipython3",
   "version": "3.9.12"
  },
  "orig_nbformat": 4,
  "vscode": {
   "interpreter": {
    "hash": "29d88bb5e377b431d169503b9f180550a8baa703501589fe12fd604c5f43e8a4"
   }
  }
 },
 "nbformat": 4,
 "nbformat_minor": 2
}
