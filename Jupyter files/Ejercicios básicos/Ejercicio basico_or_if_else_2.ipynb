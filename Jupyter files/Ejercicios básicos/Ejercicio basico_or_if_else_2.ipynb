{
 "cells": [
  {
   "cell_type": "code",
   "execution_count": 8,
   "metadata": {},
   "outputs": [
    {
     "name": "stdout",
     "output_type": "stream",
     "text": [
      "El dígito pertenece a los cinco primeros números primos\n"
     ]
    }
   ],
   "source": [
    "x=int (input (\"Ingresa el valor de la variable\"))\n",
    "if x==2 or x==3 or x==5 or x==7  or x==11:\n",
    "\n",
    "    print (\"El dígito pertenece a los cinco primeros números primos\")\n",
    "\n",
    "else:\n",
    "\n",
    "    print (\"El dígito no forma parte de los cinco primeros números primos\")\n",
    "\n"
   ]
  }
 ],
 "metadata": {
  "kernelspec": {
   "display_name": "Python 3.9.12 ('base')",
   "language": "python",
   "name": "python3"
  },
  "language_info": {
   "codemirror_mode": {
    "name": "ipython",
    "version": 3
   },
   "file_extension": ".py",
   "mimetype": "text/x-python",
   "name": "python",
   "nbconvert_exporter": "python",
   "pygments_lexer": "ipython3",
   "version": "3.9.12"
  },
  "orig_nbformat": 4,
  "vscode": {
   "interpreter": {
    "hash": "29d88bb5e377b431d169503b9f180550a8baa703501589fe12fd604c5f43e8a4"
   }
  }
 },
 "nbformat": 4,
 "nbformat_minor": 2
}
