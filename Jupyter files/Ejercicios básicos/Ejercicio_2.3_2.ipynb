{
 "cells": [
  {
   "cell_type": "code",
   "execution_count": 6,
   "metadata": {},
   "outputs": [
    {
     "name": "stdout",
     "output_type": "stream",
     "text": [
      "ejecutar con valores 2, 3,4\n",
      "este es el valor 80.0\n"
     ]
    }
   ],
   "source": [
    "# Función de una sucesión geométrica \n",
    "def sumGeometric(a, r, n): \n",
    "   # Si el radio tiene un valor de uno \n",
    "   if r == 1: \n",
    "      return a * n \n",
    "   # Calcula la suma geométrica cuando el radio es diferente de uno \n",
    "   s = a * (1 - r ** n) / (1 - r) \n",
    "   #regresa el valor de s \n",
    "   return s\n",
    "\n",
    "if __name__ == \"__main__\": \n",
    "    print(\"ejecutar con valores 2, 3,4\")\n",
    "    x = sumGeometric(2,3,4) \n",
    "    print (\"este es el valor\", x)"
   ]
  }
 ],
 "metadata": {
  "kernelspec": {
   "display_name": "Python 3.9.12 ('base')",
   "language": "python",
   "name": "python3"
  },
  "language_info": {
   "codemirror_mode": {
    "name": "ipython",
    "version": 3
   },
   "file_extension": ".py",
   "mimetype": "text/x-python",
   "name": "python",
   "nbconvert_exporter": "python",
   "pygments_lexer": "ipython3",
   "version": "3.9.12"
  },
  "orig_nbformat": 4,
  "vscode": {
   "interpreter": {
    "hash": "29d88bb5e377b431d169503b9f180550a8baa703501589fe12fd604c5f43e8a4"
   }
  }
 },
 "nbformat": 4,
 "nbformat_minor": 2
}
