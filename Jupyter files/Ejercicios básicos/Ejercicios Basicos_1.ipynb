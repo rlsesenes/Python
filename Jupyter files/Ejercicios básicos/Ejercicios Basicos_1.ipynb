{
 "cells": [
  {
   "cell_type": "code",
   "execution_count": 3,
   "metadata": {},
   "outputs": [
    {
     "name": "stdout",
     "output_type": "stream",
     "text": [
      "El valor de x es: 73\n",
      "El resultado de la operacion es y 147\n",
      "tu color favorito es Rojo Tienes 23 y pesas 72.0 kg\n"
     ]
    }
   ],
   "source": [
    "x = 73\n",
    "y = 1+x*2\n",
    "z=(\"Hola a todos en el primer programa\")\n",
    "w= input(\"Ingresa tu color favorito\")\n",
    "edad = int (input(\"Ingresa tu edad\"))\n",
    "peso = float (input(\"Ingresa tu peso\"))\n",
    "\n",
    "print (\"El valor de x es:\", x)\n",
    "print (\"El resultado de la operacion es y\", y)\n",
    "print (\"tu color favorito es\",w, \"Tienes\", edad, \"y pesas\", peso, \"kg\")\n"
   ]
  }
 ],
 "metadata": {
  "kernelspec": {
   "display_name": "Python 3.9.12 ('base')",
   "language": "python",
   "name": "python3"
  },
  "language_info": {
   "codemirror_mode": {
    "name": "ipython",
    "version": 3
   },
   "file_extension": ".py",
   "mimetype": "text/x-python",
   "name": "python",
   "nbconvert_exporter": "python",
   "pygments_lexer": "ipython3",
   "version": "3.9.12"
  },
  "orig_nbformat": 4,
  "vscode": {
   "interpreter": {
    "hash": "29d88bb5e377b431d169503b9f180550a8baa703501589fe12fd604c5f43e8a4"
   }
  }
 },
 "nbformat": 4,
 "nbformat_minor": 2
}
