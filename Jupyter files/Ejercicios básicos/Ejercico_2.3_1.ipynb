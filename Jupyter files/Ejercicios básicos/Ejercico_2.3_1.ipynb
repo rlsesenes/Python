{
 "cells": [
  {
   "cell_type": "code",
   "execution_count": 1,
   "metadata": {},
   "outputs": [
    {
     "name": "stdout",
     "output_type": "stream",
     "text": [
      "Error: la Figura es muy pequeña o muy grande\n",
      "*********\n",
      "*       *\n",
      "*       *\n",
      "*       *\n",
      "*       *\n",
      "*       *\n",
      "*       *\n",
      "*       *\n",
      "*********\n"
     ]
    },
    {
     "ename": "",
     "evalue": "",
     "output_type": "error",
     "traceback": [
      "\u001b[1;31mThe Kernel crashed while executing code in the the current cell or a previous cell. Please review the code in the cell(s) to identify a possible cause of the failure. Click <a href='https://aka.ms/vscodeJupyterKernelCrash'>here</a> for more info. View Jupyter <a href='command:jupyter.viewOutput'>log</a> for further details."
     ]
    }
   ],
   "source": [
    "\n",
    "\n",
    "def dibujo(width, height):\n",
    "    \n",
    "    if width < 10 or height < 10:\n",
    "        print (\"Error: la Figura es muy pequeña o muy grande\")\n",
    "        quit()\n",
    "    print (\"*\" * width)\n",
    "    for i in range (height - 2):\n",
    "        print (\"*\" + \" \" * (width - 2) + \"*\")\n",
    "    print (\"*\" *width)\n",
    "dibujo(9, 9)          \n"
   ]
  }
 ],
 "metadata": {
  "kernelspec": {
   "display_name": "Python 3.9.12 ('base')",
   "language": "python",
   "name": "python3"
  },
  "language_info": {
   "codemirror_mode": {
    "name": "ipython",
    "version": 3
   },
   "file_extension": ".py",
   "mimetype": "text/x-python",
   "name": "python",
   "nbconvert_exporter": "python",
   "pygments_lexer": "ipython3",
   "version": "3.9.12"
  },
  "orig_nbformat": 4,
  "vscode": {
   "interpreter": {
    "hash": "29d88bb5e377b431d169503b9f180550a8baa703501589fe12fd604c5f43e8a4"
   }
  }
 },
 "nbformat": 4,
 "nbformat_minor": 2
}
