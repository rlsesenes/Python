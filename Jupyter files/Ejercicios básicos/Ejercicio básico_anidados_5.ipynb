{
 "cells": [
  {
   "cell_type": "code",
   "execution_count": null,
   "metadata": {},
   "outputs": [],
   "source": [
    "num=float(input(\"ingresa un numero\"))\n",
    "if (num>0):\n",
    "    adjective=\" \"\n",
    "if num >= 1000000:\n",
    "    adjective=\"muy grande\"\n",
    "elif num>=1000:\n",
    "    adjective=\"grande\"\n",
    "    result=\"Es realmente un número\" + adjective + \"y positivo\"\n",
    "\n",
    "elif num<0:\n",
    "    result=\"el número es negativo\"\n",
    "else:\n",
    "    result=\"este número es cero\"\n",
    "\n",
    "print (result)"
   ]
  }
 ],
 "metadata": {
  "kernelspec": {
   "display_name": "Python 3.9.12 ('base')",
   "language": "python",
   "name": "python3"
  },
  "language_info": {
   "codemirror_mode": {
    "name": "ipython",
    "version": 3
   },
   "file_extension": ".py",
   "mimetype": "text/x-python",
   "name": "python",
   "nbconvert_exporter": "python",
   "pygments_lexer": "ipython3",
   "version": "3.9.12"
  },
  "orig_nbformat": 4,
  "vscode": {
   "interpreter": {
    "hash": "29d88bb5e377b431d169503b9f180550a8baa703501589fe12fd604c5f43e8a4"
   }
  }
 },
 "nbformat": 4,
 "nbformat_minor": 2
}
