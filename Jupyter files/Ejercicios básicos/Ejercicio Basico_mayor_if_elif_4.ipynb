{
 "cells": [
  {
   "cell_type": "code",
   "execution_count": 6,
   "metadata": {},
   "outputs": [
    {
     "name": "stdout",
     "output_type": "stream",
     "text": [
      "El numero es cero\n"
     ]
    }
   ],
   "source": [
    "num= float (input(\"Ingresa un número\"))\n",
    "\n",
    "if (num>0):\n",
    "\n",
    "    result=\"el número es positivo\"\n",
    "elif (num<0):\n",
    "\n",
    "    result=\"el número es negativo\"\n",
    "\n",
    "else:\n",
    "\n",
    "    result=\"El numero es cero\"\n",
    "\n",
    "print (result)\n",
    "\n"
   ]
  }
 ],
 "metadata": {
  "kernelspec": {
   "display_name": "Python 3.9.12 ('base')",
   "language": "python",
   "name": "python3"
  },
  "language_info": {
   "codemirror_mode": {
    "name": "ipython",
    "version": 3
   },
   "file_extension": ".py",
   "mimetype": "text/x-python",
   "name": "python",
   "nbconvert_exporter": "python",
   "pygments_lexer": "ipython3",
   "version": "3.9.12"
  },
  "orig_nbformat": 4,
  "vscode": {
   "interpreter": {
    "hash": "29d88bb5e377b431d169503b9f180550a8baa703501589fe12fd604c5f43e8a4"
   }
  }
 },
 "nbformat": 4,
 "nbformat_minor": 2
}
